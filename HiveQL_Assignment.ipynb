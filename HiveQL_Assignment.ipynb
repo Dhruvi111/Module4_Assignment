{
  "nbformat": 4,
  "nbformat_minor": 0,
  "metadata": {
    "colab": {
      "provenance": []
    },
    "kernelspec": {
      "name": "python3",
      "display_name": "Python 3"
    },
    "language_info": {
      "name": "python"
    }
  },
  "cells": [
    {
      "cell_type": "code",
      "execution_count": 4,
      "metadata": {
        "colab": {
          "base_uri": "https://localhost:8080/"
        },
        "id": "CzYc02if5g05",
        "outputId": "0bcb8a1e-f9f2-46ce-d302-9bddd5e62703"
      },
      "outputs": [
        {
          "output_type": "stream",
          "name": "stdout",
          "text": [
            "Collecting pyspark\n",
            "  Downloading pyspark-3.5.1.tar.gz (317.0 MB)\n",
            "\u001b[2K     \u001b[90m━━━━━━━━━━━━━━━━━━━━━━━━━━━━━━━━━━━━━━━━\u001b[0m \u001b[32m317.0/317.0 MB\u001b[0m \u001b[31m3.7 MB/s\u001b[0m eta \u001b[36m0:00:00\u001b[0m\n",
            "\u001b[?25h  Preparing metadata (setup.py) ... \u001b[?25l\u001b[?25hdone\n",
            "Requirement already satisfied: py4j==0.10.9.7 in /usr/local/lib/python3.10/dist-packages (from pyspark) (0.10.9.7)\n",
            "Building wheels for collected packages: pyspark\n",
            "  Building wheel for pyspark (setup.py) ... \u001b[?25l\u001b[?25hdone\n",
            "  Created wheel for pyspark: filename=pyspark-3.5.1-py2.py3-none-any.whl size=317488491 sha256=7b8033a19561b2c7193acfe11cd95ea3feb22bc61b240fc9cdc3cc9c32ab5b3e\n",
            "  Stored in directory: /root/.cache/pip/wheels/80/1d/60/2c256ed38dddce2fdd93be545214a63e02fbd8d74fb0b7f3a6\n",
            "Successfully built pyspark\n",
            "Installing collected packages: pyspark\n",
            "Successfully installed pyspark-3.5.1\n",
            "Requirement already satisfied: matplotlib in /usr/local/lib/python3.10/dist-packages (3.7.1)\n",
            "Requirement already satisfied: contourpy>=1.0.1 in /usr/local/lib/python3.10/dist-packages (from matplotlib) (1.2.1)\n",
            "Requirement already satisfied: cycler>=0.10 in /usr/local/lib/python3.10/dist-packages (from matplotlib) (0.12.1)\n",
            "Requirement already satisfied: fonttools>=4.22.0 in /usr/local/lib/python3.10/dist-packages (from matplotlib) (4.53.0)\n",
            "Requirement already satisfied: kiwisolver>=1.0.1 in /usr/local/lib/python3.10/dist-packages (from matplotlib) (1.4.5)\n",
            "Requirement already satisfied: numpy>=1.20 in /usr/local/lib/python3.10/dist-packages (from matplotlib) (1.25.2)\n",
            "Requirement already satisfied: packaging>=20.0 in /usr/local/lib/python3.10/dist-packages (from matplotlib) (24.1)\n",
            "Requirement already satisfied: pillow>=6.2.0 in /usr/local/lib/python3.10/dist-packages (from matplotlib) (9.4.0)\n",
            "Requirement already satisfied: pyparsing>=2.3.1 in /usr/local/lib/python3.10/dist-packages (from matplotlib) (3.1.2)\n",
            "Requirement already satisfied: python-dateutil>=2.7 in /usr/local/lib/python3.10/dist-packages (from matplotlib) (2.8.2)\n",
            "Requirement already satisfied: six>=1.5 in /usr/local/lib/python3.10/dist-packages (from python-dateutil>=2.7->matplotlib) (1.16.0)\n"
          ]
        }
      ],
      "source": [
        "#installing pyspark\n",
        "!pip install pyspark\n",
        "!pip install matplotlib\n"
      ]
    },
    {
      "cell_type": "code",
      "source": [
        "# Initializing a Spark Session:\n",
        "\n",
        "from pyspark.sql import SparkSession\n",
        "\n",
        "spark = SparkSession.builder \\\n",
        "    .appName(\"Colab\") \\\n",
        "    .config(\"spark.sql.warehouse.dir\", \"/content/spark-warehouse\") \\\n",
        "    .enableHiveSupport() \\\n",
        "    .getOrCreate()"
      ],
      "metadata": {
        "id": "QNXCarXw68uG"
      },
      "execution_count": 5,
      "outputs": []
    },
    {
      "cell_type": "code",
      "source": [
        "# Setting up Hadoop Configuration\n",
        "\n",
        "import os\n",
        "\n",
        "# Setting Hadoop home directory and appending to system path\n",
        "os.environ[\"HADOOP_HOME\"] = \"/usr/local/hadoop\"\n",
        "os.environ[\"PATH\"] += os.pathsep + os.path.join(os.environ[\"HADOOP_HOME\"], \"bin\")"
      ],
      "metadata": {
        "id": "Wih_1wMr7Nap"
      },
      "execution_count": 6,
      "outputs": []
    },
    {
      "cell_type": "code",
      "source": [
        "# reading the csv file.\n",
        "csv_file_path = '/content/drive/MyDrive/BostonHousing.csv'\n",
        "\n",
        "df = spark.read.csv(csv_file_path, header=True, inferSchema=True)\n",
        "\n",
        "df.show()\n",
        "\n"
      ],
      "metadata": {
        "colab": {
          "base_uri": "https://localhost:8080/"
        },
        "id": "QfO63Urz7UhK",
        "outputId": "261fce98-506c-40df-ab4f-18609d2500de"
      },
      "execution_count": 7,
      "outputs": [
        {
          "output_type": "stream",
          "name": "stdout",
          "text": [
            "+-------+----+-----+----+-----+-----+-----+------+---+---+-------+------+-----+----+\n",
            "|   crim|  zn|indus|chas|  nox|   rm|  age|   dis|rad|tax|ptratio|     b|lstat|medv|\n",
            "+-------+----+-----+----+-----+-----+-----+------+---+---+-------+------+-----+----+\n",
            "|0.00632|18.0| 2.31|   0|0.538|6.575| 65.2|  4.09|  1|296|   15.3| 396.9| 4.98|24.0|\n",
            "|0.02731| 0.0| 7.07|   0|0.469|6.421| 78.9|4.9671|  2|242|   17.8| 396.9| 9.14|21.6|\n",
            "|0.02729| 0.0| 7.07|   0|0.469|7.185| 61.1|4.9671|  2|242|   17.8|392.83| 4.03|34.7|\n",
            "|0.03237| 0.0| 2.18|   0|0.458|6.998| 45.8|6.0622|  3|222|   18.7|394.63| 2.94|33.4|\n",
            "|0.06905| 0.0| 2.18|   0|0.458|7.147| 54.2|6.0622|  3|222|   18.7| 396.9| 5.33|36.2|\n",
            "|0.02985| 0.0| 2.18|   0|0.458| 6.43| 58.7|6.0622|  3|222|   18.7|394.12| 5.21|28.7|\n",
            "|0.08829|12.5| 7.87|   0|0.524|6.012| 66.6|5.5605|  5|311|   15.2| 395.6|12.43|22.9|\n",
            "|0.14455|12.5| 7.87|   0|0.524|6.172| 96.1|5.9505|  5|311|   15.2| 396.9|19.15|27.1|\n",
            "|0.21124|12.5| 7.87|   0|0.524|5.631|100.0|6.0821|  5|311|   15.2|386.63|29.93|16.5|\n",
            "|0.17004|12.5| 7.87|   0|0.524|6.004| 85.9|6.5921|  5|311|   15.2|386.71| 17.1|18.9|\n",
            "|0.22489|12.5| 7.87|   0|0.524|6.377| 94.3|6.3467|  5|311|   15.2|392.52|20.45|15.0|\n",
            "|0.11747|12.5| 7.87|   0|0.524|6.009| 82.9|6.2267|  5|311|   15.2| 396.9|13.27|18.9|\n",
            "|0.09378|12.5| 7.87|   0|0.524|5.889| 39.0|5.4509|  5|311|   15.2| 390.5|15.71|21.7|\n",
            "|0.62976| 0.0| 8.14|   0|0.538|5.949| 61.8|4.7075|  4|307|   21.0| 396.9| 8.26|20.4|\n",
            "|0.63796| 0.0| 8.14|   0|0.538|6.096| 84.5|4.4619|  4|307|   21.0|380.02|10.26|18.2|\n",
            "|0.62739| 0.0| 8.14|   0|0.538|5.834| 56.5|4.4986|  4|307|   21.0|395.62| 8.47|19.9|\n",
            "|1.05393| 0.0| 8.14|   0|0.538|5.935| 29.3|4.4986|  4|307|   21.0|386.85| 6.58|23.1|\n",
            "| 0.7842| 0.0| 8.14|   0|0.538| 5.99| 81.7|4.2579|  4|307|   21.0|386.75|14.67|17.5|\n",
            "|0.80271| 0.0| 8.14|   0|0.538|5.456| 36.6|3.7965|  4|307|   21.0|288.99|11.69|20.2|\n",
            "| 0.7258| 0.0| 8.14|   0|0.538|5.727| 69.5|3.7965|  4|307|   21.0|390.95|11.28|18.2|\n",
            "+-------+----+-----+----+-----+-----+-----+------+---+---+-------+------+-----+----+\n",
            "only showing top 20 rows\n",
            "\n"
          ]
        }
      ]
    },
    {
      "cell_type": "code",
      "source": [
        "# saving  the data frame as a hive table\n",
        "hive_table_name = 'data'\n",
        "\n",
        "\n",
        "df.write.mode('overwrite').saveAsTable(hive_table_name)"
      ],
      "metadata": {
        "id": "LHaIt2_h76LG"
      },
      "execution_count": 8,
      "outputs": []
    },
    {
      "cell_type": "code",
      "source": [
        "# Querying the Hive table\n",
        "spark.sql(f\"SELECT * FROM {hive_table_name}\").show()"
      ],
      "metadata": {
        "colab": {
          "base_uri": "https://localhost:8080/"
        },
        "id": "bF7nr1-Q8gEF",
        "outputId": "102261cb-ec43-4475-8020-e6e356bad2bb"
      },
      "execution_count": 9,
      "outputs": [
        {
          "output_type": "stream",
          "name": "stdout",
          "text": [
            "+-------+----+-----+----+-----+-----+-----+------+---+---+-------+------+-----+----+\n",
            "|   crim|  zn|indus|chas|  nox|   rm|  age|   dis|rad|tax|ptratio|     b|lstat|medv|\n",
            "+-------+----+-----+----+-----+-----+-----+------+---+---+-------+------+-----+----+\n",
            "|0.00632|18.0| 2.31|   0|0.538|6.575| 65.2|  4.09|  1|296|   15.3| 396.9| 4.98|24.0|\n",
            "|0.02731| 0.0| 7.07|   0|0.469|6.421| 78.9|4.9671|  2|242|   17.8| 396.9| 9.14|21.6|\n",
            "|0.02729| 0.0| 7.07|   0|0.469|7.185| 61.1|4.9671|  2|242|   17.8|392.83| 4.03|34.7|\n",
            "|0.03237| 0.0| 2.18|   0|0.458|6.998| 45.8|6.0622|  3|222|   18.7|394.63| 2.94|33.4|\n",
            "|0.06905| 0.0| 2.18|   0|0.458|7.147| 54.2|6.0622|  3|222|   18.7| 396.9| 5.33|36.2|\n",
            "|0.02985| 0.0| 2.18|   0|0.458| 6.43| 58.7|6.0622|  3|222|   18.7|394.12| 5.21|28.7|\n",
            "|0.08829|12.5| 7.87|   0|0.524|6.012| 66.6|5.5605|  5|311|   15.2| 395.6|12.43|22.9|\n",
            "|0.14455|12.5| 7.87|   0|0.524|6.172| 96.1|5.9505|  5|311|   15.2| 396.9|19.15|27.1|\n",
            "|0.21124|12.5| 7.87|   0|0.524|5.631|100.0|6.0821|  5|311|   15.2|386.63|29.93|16.5|\n",
            "|0.17004|12.5| 7.87|   0|0.524|6.004| 85.9|6.5921|  5|311|   15.2|386.71| 17.1|18.9|\n",
            "|0.22489|12.5| 7.87|   0|0.524|6.377| 94.3|6.3467|  5|311|   15.2|392.52|20.45|15.0|\n",
            "|0.11747|12.5| 7.87|   0|0.524|6.009| 82.9|6.2267|  5|311|   15.2| 396.9|13.27|18.9|\n",
            "|0.09378|12.5| 7.87|   0|0.524|5.889| 39.0|5.4509|  5|311|   15.2| 390.5|15.71|21.7|\n",
            "|0.62976| 0.0| 8.14|   0|0.538|5.949| 61.8|4.7075|  4|307|   21.0| 396.9| 8.26|20.4|\n",
            "|0.63796| 0.0| 8.14|   0|0.538|6.096| 84.5|4.4619|  4|307|   21.0|380.02|10.26|18.2|\n",
            "|0.62739| 0.0| 8.14|   0|0.538|5.834| 56.5|4.4986|  4|307|   21.0|395.62| 8.47|19.9|\n",
            "|1.05393| 0.0| 8.14|   0|0.538|5.935| 29.3|4.4986|  4|307|   21.0|386.85| 6.58|23.1|\n",
            "| 0.7842| 0.0| 8.14|   0|0.538| 5.99| 81.7|4.2579|  4|307|   21.0|386.75|14.67|17.5|\n",
            "|0.80271| 0.0| 8.14|   0|0.538|5.456| 36.6|3.7965|  4|307|   21.0|288.99|11.69|20.2|\n",
            "| 0.7258| 0.0| 8.14|   0|0.538|5.727| 69.5|3.7965|  4|307|   21.0|390.95|11.28|18.2|\n",
            "+-------+----+-----+----+-----+-----+-----+------+---+---+-------+------+-----+----+\n",
            "only showing top 20 rows\n",
            "\n"
          ]
        }
      ]
    },
    {
      "cell_type": "code",
      "source": [
        "# Task 1: Data Overview\n",
        "\n",
        "#Retrieving and displaying the first 5 rows of the dataset to get a sense of the data's structure.\n",
        "\n",
        "query= \"SELECT * FROM data LIMIT 5\"\n",
        "\n",
        "spark.sql(query).show()"
      ],
      "metadata": {
        "colab": {
          "base_uri": "https://localhost:8080/"
        },
        "id": "SGCB19Li8l_d",
        "outputId": "531d8424-3a9b-4736-b943-523f3d91b9c7"
      },
      "execution_count": 10,
      "outputs": [
        {
          "output_type": "stream",
          "name": "stdout",
          "text": [
            "+-------+----+-----+----+-----+-----+----+------+---+---+-------+------+-----+----+\n",
            "|   crim|  zn|indus|chas|  nox|   rm| age|   dis|rad|tax|ptratio|     b|lstat|medv|\n",
            "+-------+----+-----+----+-----+-----+----+------+---+---+-------+------+-----+----+\n",
            "|0.00632|18.0| 2.31|   0|0.538|6.575|65.2|  4.09|  1|296|   15.3| 396.9| 4.98|24.0|\n",
            "|0.02731| 0.0| 7.07|   0|0.469|6.421|78.9|4.9671|  2|242|   17.8| 396.9| 9.14|21.6|\n",
            "|0.02729| 0.0| 7.07|   0|0.469|7.185|61.1|4.9671|  2|242|   17.8|392.83| 4.03|34.7|\n",
            "|0.03237| 0.0| 2.18|   0|0.458|6.998|45.8|6.0622|  3|222|   18.7|394.63| 2.94|33.4|\n",
            "|0.06905| 0.0| 2.18|   0|0.458|7.147|54.2|6.0622|  3|222|   18.7| 396.9| 5.33|36.2|\n",
            "+-------+----+-----+----+-----+-----+----+------+---+---+-------+------+-----+----+\n",
            "\n"
          ]
        }
      ]
    },
    {
      "cell_type": "code",
      "source": [
        "# Finding the total number of records in the dataset.\n",
        "query=\"SELECT COUNT(*) FROM data\"\n",
        "spark.sql(query).show()"
      ],
      "metadata": {
        "colab": {
          "base_uri": "https://localhost:8080/"
        },
        "id": "wGI_EhnE8xSS",
        "outputId": "9ae63345-24ab-4322-e832-9311309cd46f"
      },
      "execution_count": 11,
      "outputs": [
        {
          "output_type": "stream",
          "name": "stdout",
          "text": [
            "+--------+\n",
            "|count(1)|\n",
            "+--------+\n",
            "|     506|\n",
            "+--------+\n",
            "\n"
          ]
        }
      ]
    },
    {
      "cell_type": "code",
      "source": [
        "# Task 2: Descriptive Statistics\n",
        "\n",
        "# Calculating and displaying basic statistics (mean, standard deviation, min, max) for the \"medv\" (median home value) column.\n",
        "\n",
        "query=\"SELECT MEAN(MEDV) AS AVERAGE_PRICE,MEDIAN(MEDV) AS MEDIAN_PRICE,STDDEV_POP(MEDV) AS STANDARD_DEVIATION, MIN(MEDV) AS MINIMUM_PRICE,MAX(MEDV) AS MAX_PRICE FROM data\"\n",
        "spark.sql(query).show()"
      ],
      "metadata": {
        "colab": {
          "base_uri": "https://localhost:8080/"
        },
        "id": "iChNWxbr9plk",
        "outputId": "e25f7de2-9599-48d5-a1cb-1477447ccaee"
      },
      "execution_count": 12,
      "outputs": [
        {
          "output_type": "stream",
          "name": "stdout",
          "text": [
            "+------------------+------------+------------------+-------------+---------+\n",
            "|     AVERAGE_PRICE|MEDIAN_PRICE|STANDARD_DEVIATION|MINIMUM_PRICE|MAX_PRICE|\n",
            "+------------------+------------+------------------+-------------+---------+\n",
            "|22.532806324110698|        21.2|   9.1880115452782|          5.0|     50.0|\n",
            "+------------------+------------+------------------+-------------+---------+\n",
            "\n"
          ]
        }
      ]
    },
    {
      "cell_type": "code",
      "source": [
        "# Calculating and displaying the mean \"rm\" (average number of rooms per dwelling).\n",
        "\n",
        "query=\"SELECT MEAN(RM) AS AVERAGE_ROOMS FROM data\"\n",
        "spark.sql(query).show()"
      ],
      "metadata": {
        "colab": {
          "base_uri": "https://localhost:8080/"
        },
        "id": "jLOi-FtL-Tnm",
        "outputId": "a91b314f-6978-4465-f2e5-378382391d97"
      },
      "execution_count": 13,
      "outputs": [
        {
          "output_type": "stream",
          "name": "stdout",
          "text": [
            "+-----------------+\n",
            "|    AVERAGE_ROOMS|\n",
            "+-----------------+\n",
            "|6.284634387351787|\n",
            "+-----------------+\n",
            "\n"
          ]
        }
      ]
    },
    {
      "cell_type": "code",
      "source": [
        "# Task 3: Data Exploration\n",
        "\n",
        "# Identifying the property with the highest crime rate (\"crim\")\n",
        "query=\"SELECT * FROM data WHERE CRIM = (SELECT MAX(CRIM) FROM DATA) \"\n",
        "spark.sql(query).show()"
      ],
      "metadata": {
        "colab": {
          "base_uri": "https://localhost:8080/"
        },
        "id": "rlt0EKJv-cC8",
        "outputId": "ea0d11c1-b3f5-4da5-84b5-21201986fc23"
      },
      "execution_count": 14,
      "outputs": [
        {
          "output_type": "stream",
          "name": "stdout",
          "text": [
            "+-------+---+-----+----+-----+-----+----+------+---+---+-------+-----+-----+----+\n",
            "|   crim| zn|indus|chas|  nox|   rm| age|   dis|rad|tax|ptratio|    b|lstat|medv|\n",
            "+-------+---+-----+----+-----+-----+----+------+---+---+-------+-----+-----+----+\n",
            "|88.9762|0.0| 18.1|   0|0.671|6.968|91.9|1.4165| 24|666|   20.2|396.9|17.21|10.4|\n",
            "+-------+---+-----+----+-----+-----+----+------+---+---+-------+-----+-----+----+\n",
            "\n"
          ]
        }
      ]
    },
    {
      "cell_type": "code",
      "source": [
        "# Finding the property with the lowest median home value (\"medv\")\n",
        "query=\"SELECT * FROM data WHERE MEDV = (SELECT MIN(MEDV) FROM DATA) \"\n",
        "spark.sql(query).show()"
      ],
      "metadata": {
        "colab": {
          "base_uri": "https://localhost:8080/"
        },
        "id": "MvttOdqS_qRb",
        "outputId": "2249a861-9f85-47d5-d333-fd59b0e08910"
      },
      "execution_count": 15,
      "outputs": [
        {
          "output_type": "stream",
          "name": "stdout",
          "text": [
            "+-------+---+-----+----+-----+-----+-----+------+---+---+-------+------+-----+----+\n",
            "|   crim| zn|indus|chas|  nox|   rm|  age|   dis|rad|tax|ptratio|     b|lstat|medv|\n",
            "+-------+---+-----+----+-----+-----+-----+------+---+---+-------+------+-----+----+\n",
            "|38.3518|0.0| 18.1|   0|0.693|5.453|100.0|1.4896| 24|666|   20.2| 396.9|30.59| 5.0|\n",
            "|67.9208|0.0| 18.1|   0|0.693|5.683|100.0|1.4254| 24|666|   20.2|384.97|22.98| 5.0|\n",
            "+-------+---+-----+----+-----+-----+-----+------+---+---+-------+------+-----+----+\n",
            "\n"
          ]
        }
      ]
    },
    {
      "cell_type": "code",
      "source": [
        "# Task 4: Data Distribution Analysis.\n",
        "\n",
        "# Creating a histogram showing the distribution of the \"age\" column.\n",
        "\n",
        "import matplotlib.pyplot as plt\n",
        "import numpy as np\n",
        "\n",
        "query=\"SELECT AGE AS COUNT FROM data GROUP BY AGE\"\n",
        "df=spark.sql(query)\n",
        "df.show()\n",
        "pandas_df = df.toPandas()\n",
        "\n",
        "plt.hist(pandas_df, edgecolor='black')\n",
        "plt.title('Histogram of Age')\n",
        "plt.xlabel('Age')\n",
        "plt.ylabel('Frequency')\n",
        "plt.show()"
      ],
      "metadata": {
        "colab": {
          "base_uri": "https://localhost:8080/",
          "height": 943
        },
        "id": "V9y3ezFy_zt9",
        "outputId": "eb9c7fd4-468c-44ba-e91e-fdb547bef3f7"
      },
      "execution_count": 16,
      "outputs": [
        {
          "output_type": "stream",
          "name": "stdout",
          "text": [
            "+-----+\n",
            "|COUNT|\n",
            "+-----+\n",
            "| 74.5|\n",
            "| 56.8|\n",
            "| 98.3|\n",
            "| 78.9|\n",
            "| 15.7|\n",
            "| 67.0|\n",
            "| 96.8|\n",
            "| 54.2|\n",
            "| 66.2|\n",
            "| 95.7|\n",
            "| 56.5|\n",
            "| 32.3|\n",
            "| 49.9|\n",
            "| 98.1|\n",
            "| 86.9|\n",
            "| 83.5|\n",
            "| 94.9|\n",
            "| 90.3|\n",
            "| 97.1|\n",
            "| 65.4|\n",
            "+-----+\n",
            "only showing top 20 rows\n",
            "\n"
          ]
        },
        {
          "output_type": "display_data",
          "data": {
            "text/plain": [
              "<Figure size 640x480 with 1 Axes>"
            ],
            "image/png": "[encoded data removed]"
          },
          "metadata": {}
        }
      ]
    },
    {
      "cell_type": "code",
      "source": [
        "# Calculating the percentage of properties with a \"chas\" value of 1 (indicating proximity to the Charles River).\n",
        "\n",
        "query=\"\"\"\n",
        "SELECT\n",
        "    ROUND((COUNT(CASE WHEN chas = 1 THEN 1 END) * 100.0) / COUNT(*),2) AS percentage_of_property_with_chas_1\n",
        "FROM\n",
        "    data\n",
        "\"\"\"\n",
        "spark.sql(query).show()"
      ],
      "metadata": {
        "colab": {
          "base_uri": "https://localhost:8080/"
        },
        "id": "hjerZlsFAFjI",
        "outputId": "d6f517f2-813d-478e-90af-101210b86307"
      },
      "execution_count": 17,
      "outputs": [
        {
          "output_type": "stream",
          "name": "stdout",
          "text": [
            "+----------------------------------+\n",
            "|percentage_of_property_with_chas_1|\n",
            "+----------------------------------+\n",
            "|                              6.92|\n",
            "+----------------------------------+\n",
            "\n"
          ]
        }
      ]
    },
    {
      "cell_type": "code",
      "source": [
        "# Task 5: Correlation Analysis\n",
        "\n",
        "# Calculating the correlation coefficient between \"rm\" and \"medv.\"\n",
        "#Explain the relationship between the average number of rooms and median home value.\n",
        "\n",
        "query=\"SELECT CORR(RM,MEDV) AS CORRELATION_COEFFICIENT FROM data\"\n",
        "spark.sql(query).show()\n",
        "\n",
        "print(\"there is positive relation between rm and medv ,meaning as rm increase medv increase\")"
      ],
      "metadata": {
        "colab": {
          "base_uri": "https://localhost:8080/"
        },
        "id": "cJ0l5ZT9MCkU",
        "outputId": "331af74d-5501-4637-fc18-4fc0f35b9a8e"
      },
      "execution_count": null,
      "outputs": [
        {
          "output_type": "stream",
          "name": "stdout",
          "text": [
            "+-----------------------+\n",
            "|CORRELATION_COEFFICIENT|\n",
            "+-----------------------+\n",
            "|     0.6953599470715401|\n",
            "+-----------------------+\n",
            "\n",
            "there is positive relation between rm and medv ,meaning as rm increase medv increase\n"
          ]
        }
      ]
    },
    {
      "cell_type": "code",
      "source": [
        "# Investigating if there is any correlation between \"ptratio\" (pupil-teacher ratio) and \"nox\" (nitrogen oxide concentration).\n",
        "query=\"SELECT CORR(PTRATIO,NOX) AS CORRELATION_COEFFICIENT FROM data\"\n",
        "spark.sql(query).show()\n",
        "\n",
        "print(\"there is almost no correlation between ptratio and nox\")"
      ],
      "metadata": {
        "colab": {
          "base_uri": "https://localhost:8080/"
        },
        "id": "WQ2kInzRMVd2",
        "outputId": "8e9d4ea9-db5b-4d66-ccc8-d990c0ed7c38"
      },
      "execution_count": null,
      "outputs": [
        {
          "output_type": "stream",
          "name": "stdout",
          "text": [
            "+-----------------------+\n",
            "|CORRELATION_COEFFICIENT|\n",
            "+-----------------------+\n",
            "|    0.18893267711276893|\n",
            "+-----------------------+\n",
            "\n",
            "there is almost no correlation between ptratio and nox\n"
          ]
        }
      ]
    },
    {
      "cell_type": "code",
      "source": [
        "# Task 6 : Advanced Querying\n",
        "\n",
        "# HiveQL query to identify and display the top 5 neighborhoods with the highest median home values (\"medv\").\n",
        "\n",
        "query=\"SELECT DISTINCT(*) FROM data ORDER BY MEDV DESC LIMIT 5\"\n",
        "spark.sql(query).show()"
      ],
      "metadata": {
        "colab": {
          "base_uri": "https://localhost:8080/"
        },
        "id": "ctE9QsG2Mhv3",
        "outputId": "f072bc92-d4f4-41fa-9413-fac32e05e302"
      },
      "execution_count": null,
      "outputs": [
        {
          "output_type": "stream",
          "name": "stdout",
          "text": [
            "+-------+---+-----+----+-----+-----+----+------+---+---+-------+------+-----+----+\n",
            "|   crim| zn|indus|chas|  nox|   rm| age|   dis|rad|tax|ptratio|     b|lstat|medv|\n",
            "+-------+---+-----+----+-----+-----+----+------+---+---+-------+------+-----+----+\n",
            "|1.46336|0.0|19.58|   0|0.605|7.489|90.8|1.9709|  5|403|   14.7|374.43| 1.73|50.0|\n",
            "|2.01019|0.0|19.58|   0|0.605|7.929|96.2|2.0459|  5|403|   14.7| 369.3|  3.7|50.0|\n",
            "|8.26725|0.0| 18.1|   1|0.668|5.875|89.6|1.1296| 24|666|   20.2|347.88| 8.88|50.0|\n",
            "|0.52693|0.0|  6.2|   0|0.504|8.725|83.0|2.8944|  8|307|   17.4| 382.0| 4.63|50.0|\n",
            "|1.51902|0.0|19.58|   1|0.605|8.375|93.9| 2.162|  5|403|   14.7|388.45| 3.32|50.0|\n",
            "+-------+---+-----+----+-----+-----+----+------+---+---+-------+------+-----+----+\n",
            "\n"
          ]
        }
      ]
    },
    {
      "cell_type": "code",
      "source": [
        "# Calculate and report the average property age for neighborhoods with a \"chas\" value of 1 compared to those with \"chas\" value of 0.\n",
        "query=\"SELECT CHAS,AVG(AGE) AS AVERAGE_AGE FROM data GROUP BY CHAS\"\n",
        "spark.sql(query).show()"
      ],
      "metadata": {
        "colab": {
          "base_uri": "https://localhost:8080/"
        },
        "id": "03An53bYMt6z",
        "outputId": "73305588-1af2-4ad8-e9c9-168987ef5b44"
      },
      "execution_count": 18,
      "outputs": [
        {
          "output_type": "stream",
          "name": "stdout",
          "text": [
            "+----+-----------------+\n",
            "|CHAS|      AVERAGE_AGE|\n",
            "+----+-----------------+\n",
            "|   1|77.50000000000001|\n",
            "|   0|67.91167728237794|\n",
            "+----+-----------------+\n",
            "\n"
          ]
        }
      ]
    },
    {
      "cell_type": "code",
      "source": [
        "# Task 7: Visualization\n",
        "\n",
        "# Creating a Hive view named \"property_age_view\" that includes the \"age\" and \"medv\" columns.\n",
        "spark.sql(\"DROP VIEW IF EXISTS property_age_view\")\n",
        "query = \"\"\"\n",
        "CREATE VIEW property_age_view\n",
        "AS\n",
        "            SELECT\n",
        "                    AGE, MEDV\n",
        "            FROM\n",
        "                    data\n",
        "\"\"\"\n",
        "spark.sql(query)\n",
        "spark.table(\"property_age_view\").show()"
      ],
      "metadata": {
        "colab": {
          "base_uri": "https://localhost:8080/"
        },
        "id": "4G_NseLSMzNK",
        "outputId": "5cfb6f1d-76a4-4e52-cd25-b1db7ac5dd29"
      },
      "execution_count": null,
      "outputs": [
        {
          "output_type": "stream",
          "name": "stdout",
          "text": [
            "+-----+----+\n",
            "|  AGE|MEDV|\n",
            "+-----+----+\n",
            "| 65.2|24.0|\n",
            "| 78.9|21.6|\n",
            "| 61.1|34.7|\n",
            "| 45.8|33.4|\n",
            "| 54.2|36.2|\n",
            "| 58.7|28.7|\n",
            "| 66.6|22.9|\n",
            "| 96.1|27.1|\n",
            "|100.0|16.5|\n",
            "| 85.9|18.9|\n",
            "| 94.3|15.0|\n",
            "| 82.9|18.9|\n",
            "| 39.0|21.7|\n",
            "| 61.8|20.4|\n",
            "| 84.5|18.2|\n",
            "| 56.5|19.9|\n",
            "| 29.3|23.1|\n",
            "| 81.7|17.5|\n",
            "| 36.6|20.2|\n",
            "| 69.5|18.2|\n",
            "+-----+----+\n",
            "only showing top 20 rows\n",
            "\n"
          ]
        }
      ]
    },
    {
      "cell_type": "code",
      "source": [],
      "metadata": {
        "id": "HFSzkdSrW_VZ"
      },
      "execution_count": null,
      "outputs": []
    },
    {
      "cell_type": "code",
      "source": [
        "# Plotting a scatter plot of property age against median home value using a data visualization tool of your choice.\n",
        "\n",
        "pandas_df = spark.table(\"property_age_view\").toPandas()\n",
        "\n",
        "plt.scatter(pandas_df['AGE'],pandas_df['MEDV'])\n",
        "plt.title('Scatter plot between age and Medv')\n",
        "plt.xlabel('Age')\n",
        "plt.ylabel('MEDV')\n",
        "plt.show()\n"
      ],
      "metadata": {
        "colab": {
          "base_uri": "https://localhost:8080/",
          "height": 472
        },
        "id": "xfMeHIMoM6xH",
        "outputId": "8f68abf7-1940-4c1b-d426-25b52073ba7e"
      },
      "execution_count": null,
      "outputs": [
        {
          "output_type": "display_data",
          "data": {
            "text/plain": [
              "<Figure size 640x480 with 1 Axes>"
            ],
            "image/png": "[encoded data removed]"
          },
          "metadata": {}
        }
      ]
    },
    {
      "cell_type": "code",
      "source": [
        "# Task 8: Outliers Detection\n",
        "\n",
        "# a query to identify and report properties with a \"crim\" value greater than 10 (considered as potential outliers).\n",
        "query=\"SELECT * FROM boston_data WHERE CRIM > 10\"\n",
        "spark.sql(query).show()"
      ],
      "metadata": {
        "colab": {
          "base_uri": "https://localhost:8080/"
        },
        "id": "3hQecNChND0c",
        "outputId": "beea26ca-b3bd-4b36-b12b-4643675b8dd3"
      },
      "execution_count": null,
      "outputs": [
        {
          "output_type": "stream",
          "name": "stdout",
          "text": [
            "+-------+---+-----+----+-----+-----+-----+------+---+---+-------+------+-----+----+\n",
            "|   crim| zn|indus|chas|  nox|   rm|  age|   dis|rad|tax|ptratio|     b|lstat|medv|\n",
            "+-------+---+-----+----+-----+-----+-----+------+---+---+-------+------+-----+----+\n",
            "|13.5222|0.0| 18.1|   0|0.631|3.863|100.0|1.5106| 24|666|   20.2|131.42|13.33|23.1|\n",
            "|11.1081|0.0| 18.1|   0|0.668|4.906|100.0|1.1742| 24|666|   20.2| 396.9|34.77|13.8|\n",
            "|18.4982|0.0| 18.1|   0|0.668|4.138|100.0| 1.137| 24|666|   20.2| 396.9|37.97|13.8|\n",
            "|19.6091|0.0| 18.1|   0|0.671|7.313| 97.9|1.3163| 24|666|   20.2| 396.9|13.44|15.0|\n",
            "| 15.288|0.0| 18.1|   0|0.671|6.649| 93.3|1.3449| 24|666|   20.2|363.02|23.24|13.9|\n",
            "|23.6482|0.0| 18.1|   0|0.671| 6.38| 96.2|1.3861| 24|666|   20.2| 396.9|23.69|13.1|\n",
            "|17.8667|0.0| 18.1|   0|0.671|6.223|100.0|1.3861| 24|666|   20.2|393.74|21.78|10.2|\n",
            "|88.9762|0.0| 18.1|   0|0.671|6.968| 91.9|1.4165| 24|666|   20.2| 396.9|17.21|10.4|\n",
            "|15.8744|0.0| 18.1|   0|0.671|6.545| 99.1|1.5192| 24|666|   20.2| 396.9|21.08|10.9|\n",
            "|20.0849|0.0| 18.1|   0|  0.7|4.368| 91.2|1.4395| 24|666|   20.2|285.83|30.63| 8.8|\n",
            "|16.8118|0.0| 18.1|   0|  0.7|5.277| 98.1|1.4261| 24|666|   20.2| 396.9|30.81| 7.2|\n",
            "|24.3938|0.0| 18.1|   0|  0.7|4.652|100.0|1.4672| 24|666|   20.2| 396.9|28.28|10.5|\n",
            "|22.5971|0.0| 18.1|   0|  0.7|  5.0| 89.5|1.5184| 24|666|   20.2| 396.9|31.99| 7.4|\n",
            "|14.3337|0.0| 18.1|   0|  0.7| 4.88|100.0|1.5895| 24|666|   20.2|372.92|30.62|10.2|\n",
            "|11.5779|0.0| 18.1|   0|  0.7|5.036| 97.0|  1.77| 24|666|   20.2| 396.9|25.68| 9.7|\n",
            "|13.3598|0.0| 18.1|   0|0.693|5.887| 94.7|1.7821| 24|666|   20.2| 396.9|16.35|12.7|\n",
            "|38.3518|0.0| 18.1|   0|0.693|5.453|100.0|1.4896| 24|666|   20.2| 396.9|30.59| 5.0|\n",
            "|25.0461|0.0| 18.1|   0|0.693|5.987|100.0|1.5888| 24|666|   20.2| 396.9|26.77| 5.6|\n",
            "|14.2362|0.0| 18.1|   0|0.693|6.343|100.0|1.5741| 24|666|   20.2| 396.9|20.32| 7.2|\n",
            "|24.8017|0.0| 18.1|   0|0.693|5.349| 96.0|1.7028| 24|666|   20.2| 396.9|19.77| 8.3|\n",
            "+-------+---+-----+----+-----+-----+-----+------+---+---+-------+------+-----+----+\n",
            "only showing top 20 rows\n",
            "\n"
          ]
        }
      ]
    },
    {
      "cell_type": "code",
      "source": [
        "# Task 9: Hypothesis Testing\n",
        "\n",
        "# Formulate a hypothesis about the impact of the \"rm\" (average number of rooms) on median home value.\n",
        "\n",
        "# Hypothesis:\n",
        "# There is a positive correlation between the average number of rooms (rm) and median home value (medv).\n",
        "\n",
        "# Null hypothesis:\n",
        "# H0: ρ(rm, medv) = 0\n",
        "\n",
        "# Alternative hypothesis:\n",
        "# Ha: ρ(rm, medv) > 0\n"
      ],
      "metadata": {
        "id": "A-edT7KtNTSa"
      },
      "execution_count": null,
      "outputs": []
    },
    {
      "cell_type": "code",
      "source": [
        "# Conducting a hypothesis test using HiveQL to determine if there is a statistically significant relationship between these variables.\n",
        "\n",
        "# Calculating the correlation coefficient between \"rm\" and \"medv.\"\n",
        "query = \"\"\"\n",
        "SELECT CORR(RM, MEDV) AS correlation_coefficient\n",
        "FROM data\n",
        "\"\"\"\n",
        "correlation_coefficient = spark.sql(query).first().correlation_coefficient\n",
        "\n",
        "from scipy.stats import ttest_1samp # Import the ttest_1samp function for hypothesis testing\n",
        "\n",
        "# Performing a one-sample t-test to test the hypothesis.\n",
        "# Extracting the \"rm\" and \"medv\" values into Python lists.\n",
        "rm_values = spark.sql(\"SELECT RM FROM data\").rdd.flatMap(lambda x: x).collect()\n",
        "medv_values = spark.sql(\"SELECT MEDV FROM data\").rdd.flatMap(lambda x: x).collect()\n",
        "\n",
        "# Calculating the t-statistic and p-value.\n",
        "t_statistic, p_value = ttest_1samp(rm_values, popmean=np.mean(medv_values))\n",
        "\n",
        "# Setting the significance level.\n",
        "alpha = 0.05\n",
        "\n",
        "# Making a conclusion based on the p-value and significance level.\n",
        "if p_value < alpha:\n",
        "    print(\"Reject the null hypothesis. There is a statistically significant positive correlation between the average number of rooms (rm) and median home value (medv).\")\n",
        "else:\n",
        "    print(\"Fail to reject the null hypothesis. There is not enough evidence to conclude that there is a statistically significant positive correlation between the average number of rooms (rm) and median home value (medv).\")"
      ],
      "metadata": {
        "id": "tVEwN9ZUN1Es",
        "colab": {
          "base_uri": "https://localhost:8080/"
        },
        "outputId": "56df307b-744d-4247-e378-f5fd579eecfb"
      },
      "execution_count": null,
      "outputs": [
        {
          "output_type": "stream",
          "name": "stdout",
          "text": [
            "Reject the null hypothesis. There is a statistically significant positive correlation between the average number of rooms (rm) and median home value (medv).\n"
          ]
        }
      ]
    }
  ]
}